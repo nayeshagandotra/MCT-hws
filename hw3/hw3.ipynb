{
 "cells": [
  {
   "cell_type": "code",
   "execution_count": null,
   "metadata": {},
   "outputs": [],
   "source": [
    "from PIL import Image\n",
    "import numpy as np\n",
    "import matplotlib.pyplot as plt\n",
    "\n",
    "# Open the image\n",
    "img = Image.open('CMU_Grayscale.png')\n",
    "\n",
    "# Convert image to numpy array (matrix)\n",
    "img_matrix = np.array(img)\n",
    "\n",
    "# Step 2: Perform SVD on the image matrix\n",
    "U, S, Vt = np.linalg.svd(img_matrix, full_matrices=False)\n",
    "\n",
    "compressions = [1.0, 0.5, 0.1, 0.05]\n",
    "\n",
    "# find the size of original image\n",
    "m,n = img_matrix.shape\n",
    "\n",
    "# plot different compression ratios: \n",
    "for i in compressions:\n",
    "    # Step 3: Keep only 50% of the singular values\n",
    "    k = int((m*n*i)/(m+n+1))   #--> because compression ratio = number of original pixels/ number of new pixels\n",
    "    U_reduced = U[:, :k]\n",
    "    S_reduced = np.diag(S[:k])\n",
    "    Vt_reduced = Vt[:k, :]\n",
    "\n",
    "    # Step 4: Reconstruct the downsized image using reduced SVD components\n",
    "    img_reduced = np.dot(U_reduced, np.dot(S_reduced, Vt_reduced))\n",
    "\n",
    "    # Step 5: Plot the original and downsized images for comparison\n",
    "    plt.figure(figsize=(10, 5))\n",
    "\n",
    "    # Downsized image\n",
    "    plt.title(f\"Downsized Image {i*100}%, {k} singular values\")\n",
    "    plt.imshow(img_reduced, cmap='gray')\n",
    "\n",
    "    plt.show()\n",
    "\n"
   ]
  }
 ],
 "metadata": {
  "kernelspec": {
   "display_name": "base",
   "language": "python",
   "name": "python3"
  },
  "language_info": {
   "codemirror_mode": {
    "name": "ipython",
    "version": 3
   },
   "file_extension": ".py",
   "mimetype": "text/x-python",
   "name": "python",
   "nbconvert_exporter": "python",
   "pygments_lexer": "ipython3",
   "version": "3.9.12"
  },
  "orig_nbformat": 4
 },
 "nbformat": 4,
 "nbformat_minor": 2
}
