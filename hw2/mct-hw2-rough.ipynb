{
 "cells": [
  {
   "cell_type": "code",
   "execution_count": 2,
   "metadata": {},
   "outputs": [
    {
     "data": {
      "text/plain": [
       "array([[ 0.000000e+00-3.08902599e-17j,  1.000000e+00-1.54451300e-17j,\n",
       "        -1.544513e-17-1.54451300e-17j],\n",
       "       [ 2.000000e+00+9.26707798e-17j,  0.000000e+00+6.17805199e-17j,\n",
       "         1.000000e+00+3.08902599e-17j],\n",
       "       [-8.000000e+00-1.23561040e-16j, -4.000000e+00-9.26707798e-17j,\n",
       "        -3.000000e+00-3.08902599e-17j]])"
      ]
     },
     "execution_count": 2,
     "metadata": {},
     "output_type": "execute_result"
    }
   ],
   "source": [
    "import numpy as np\n",
    "j = complex(0, 1)\n",
    "m = np.array([[1/np.sqrt(3), 1/np.sqrt(7), 1/np.sqrt(7)], \n",
    "                   [-1/np.sqrt(3), -1/np.sqrt(7) + (1/np.sqrt(7))*j, -1/np.sqrt(7) - (1/np.sqrt(7))*j], \n",
    "                    [1/np.sqrt(3), - (2/np.sqrt(7))*j,  (2/np.sqrt(7))*j]])\n",
    "\n",
    "J = np.array([[-1, 0, 0], \n",
    "                   [0, -1 + j, 0], \n",
    "                    [0, 0, -1 -j]])\n",
    "minv = np.array([[4*np.sqrt(3), 2*np.sqrt(3), np.sqrt(3)], \n",
    "                   [-(np.sqrt(7)/2)*(3+j), -(np.sqrt(7)/2)*(2+j), -(np.sqrt(7)/2)], \n",
    "                    [(np.sqrt(7)/2)*(-3+j), (np.sqrt(7)/2)*(-2+j),  -(np.sqrt(7)/2)]])\n",
    "\n",
    "np.dot(np.dot(m, J), minv)"
   ]
  },
  {
   "cell_type": "code",
   "execution_count": 4,
   "metadata": {},
   "outputs": [
    {
     "data": {
      "text/plain": [
       "array([[ 1.,  0., -1.],\n",
       "       [ 0.,  1.,  0.],\n",
       "       [ 0.,  0.,  2.]])"
      ]
     },
     "execution_count": 4,
     "metadata": {},
     "output_type": "execute_result"
    }
   ],
   "source": [
    "j = complex(0, 1)\n",
    "m = np.array([[1, 0,  -1/np.sqrt(2)], \n",
    "                   [0, 1, 0], \n",
    "                    [0, 0,  1/np.sqrt(2)]])\n",
    "\n",
    "J = np.array([[1, 0, 0], \n",
    "                   [0, 1, 0], \n",
    "                    [0, 0, 2]])\n",
    "minv = np.array([[1, 0,  1], \n",
    "                   [0, 1, 0], \n",
    "                    [0, 0,  np.sqrt(2)]])\n",
    "\n",
    "np.dot(np.dot(m, J), minv)"
   ]
  },
  {
   "cell_type": "code",
   "execution_count": 3,
   "metadata": {},
   "outputs": [
    {
     "data": {
      "text/plain": [
       "array([[  0.        , -25.61249695, -19.20937271],\n",
       "       [  0.        , -15.61737619,  -9.99512076],\n",
       "       [  0.        ,  19.52172024,  12.49390095]])"
      ]
     },
     "execution_count": 3,
     "metadata": {},
     "output_type": "execute_result"
    }
   ],
   "source": [
    "j = complex(0, 1)\n",
    "m = np.array([[1, 0,  0], \n",
    "                   [0, -4/(np.sqrt(41)), -3/5], \n",
    "                    [0, 5/(np.sqrt(41)),  4/5]])\n",
    "\n",
    "J = np.array([[0, 1, 0], \n",
    "                   [0, 0, 1], \n",
    "                    [0, 0, 0]])\n",
    "minv = np.array([[1, 0,  0], \n",
    "                   [0, -4*(np.sqrt(41)), -3*(np.sqrt(41))], \n",
    "                    [0, 25,  16]])\n",
    "\n",
    "np.dot(np.dot(m, J), minv)"
   ]
  }
 ],
 "metadata": {
  "kernelspec": {
   "display_name": "base",
   "language": "python",
   "name": "python3"
  },
  "language_info": {
   "codemirror_mode": {
    "name": "ipython",
    "version": 3
   },
   "file_extension": ".py",
   "mimetype": "text/x-python",
   "name": "python",
   "nbconvert_exporter": "python",
   "pygments_lexer": "ipython3",
   "version": "3.9.12"
  },
  "orig_nbformat": 4
 },
 "nbformat": 4,
 "nbformat_minor": 2
}
